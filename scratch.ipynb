{
 "cells": [
  {
   "cell_type": "code",
   "execution_count": 3,
   "metadata": {},
   "outputs": [],
   "source": [
    "import numpy as np\n",
    "import pandas as pd\n",
    "import matplotlib.pyplot as plt\n",
    "from scipy.stats import binom, beta\n",
    "from scipy.optimize import minimize\n",
    "from numpy.random import dirichlet\n"
   ]
  },
  {
   "cell_type": "code",
   "execution_count": 14,
   "metadata": {},
   "outputs": [],
   "source": [
    "sample = \"TCGA-44-2655\"\n",
    "method = \"byAF\"\n",
    "ID = 1\n",
    "TPR = 0.95\n",
    "TNR = 0.9"
   ]
  },
  {
   "cell_type": "code",
   "execution_count": 3,
   "metadata": {},
   "outputs": [],
   "source": [
    "def binomial_pmf(k, n, p):\n",
    "    if k > n or k < 0:\n",
    "        return 0.0\n",
    "    coeff = 1.0\n",
    "    for i in range(k):\n",
    "        coeff *= (n - i) / (i + 1)\n",
    "    return coeff * (p ** k) * ((1 - p) ** (n - k))"
   ]
  },
  {
   "cell_type": "code",
   "execution_count": 11,
   "metadata": {},
   "outputs": [],
   "source": [
    "def calculate_probabilities(C_TR, C_TA, C_NR, C_NA, major, minor, totalCN, TiN, AF):\n",
    "    C_T = C_TA + C_TR\n",
    "    C_N = C_NA + C_NR\n",
    "    C = C_T + C_N\n",
    "    C_A = C_TA + C_NA\n",
    "    if C == 0: \n",
    "        return 0.0, 0.0, 0.0, 0.0, 0.0\n",
    "\n",
    "    x_T = TiT * totalCN / ((1 - TiT) * 2 + TiT * totalCN)\n",
    "    y_T = 1 - x_T\n",
    "    if totalCN == 0:\n",
    "        x_N = 0\n",
    "        y_N = 1\n",
    "    else:\n",
    "        x_N = TiN * totalCN / ((1 - TiN) * 2 + TiN * totalCN)\n",
    "        y_N = 1 - x_N\n",
    "    \n",
    "    # Calculate likelihoods\n",
    "    # No mutation:\n",
    "    P_TA_N = binomial_pmf(C_TA, n=C_T, p=1-TNR)\n",
    "    P_NA_N = binomial_pmf(C_NA, n=C_N, p=1-TNR)\n",
    "    P_R_no_mutation = P_TA_N * P_NA_N\n",
    "\n",
    "    # Homozygous germline:\n",
    "    P_TA_O = binomial_pmf(C_TA, n=C_T, p=TPR)\n",
    "    P_NA_O = binomial_pmf(C_NA, n=C_N, p=TPR)\n",
    "    P_R_homozygous = P_TA_O * P_NA_O\n",
    "\n",
    "    if totalCN == 0:\n",
    "        P_TA_E = binomial_pmf(C_TA, n=C_T, p=y_T*(TPR+1-TNR)/2)\n",
    "        P_NA_E = binomial_pmf(C_NA, n=C_N, p=y_N*(TPR+1-TNR)/2)\n",
    "        P_R_heterozygous = P_TA_E * P_NA_E\n",
    "\n",
    "        P_TA_C = binomial_pmf(C_TA, n=C_T, p=y_T*(1-TNR))\n",
    "        P_NA_C = binomial_pmf(C_NA, n=C_N, p=y_N*(1-TNR))\n",
    "        P_R_clonal = P_TA_C * P_NA_C\n",
    "\n",
    "    else:\n",
    "        # Heterozygous germline:\n",
    "        p_T_minor = TPR*(y_T/2+x_T*minor/totalCN)+(1-TNR)*(y_T/2+x_T*major/totalCN)\n",
    "        p_T_major = TPR*(y_T/2+x_T*major/totalCN)+(1-TNR)*(y_T/2+x_T*minor/totalCN)\n",
    "        p_N_minor = TPR*(y_N/2+x_N*minor/totalCN)+(1-TNR)*(y_N/2+x_N*major/totalCN)\n",
    "        p_N_major = TPR*(y_N/2+x_N*major/totalCN)+(1-TNR)*(y_N/2+x_N*minor/totalCN)\n",
    "        P_TA_E = binomial_pmf(C_TA, n=C_T, p=p_T_minor)/2 + binomial_pmf(C_TA, n=C_T, p=p_T_major)/2\n",
    "        P_NA_E = binomial_pmf(C_NA, n=C_N, p=p_N_minor)/2 + binomial_pmf(C_NA, n=C_N, p=p_N_major)/2\n",
    "        P_R_heterozygous = P_TA_E * P_NA_E\n",
    "\n",
    "        # Clonal: \n",
    "        P_TA_C, P_NA_C = 0, 0\n",
    "        multiplicity = np.arange(1, major + 1)\n",
    "        for i in multiplicity:\n",
    "            p_TA_C = x_T*(TPR*i/totalCN+(1-TNR)*(totalCN-i)/totalCN)+y_T*(1-TNR)\n",
    "            p_NA_C = x_N*(TPR*i/totalCN+(1-TNR)*(totalCN-i)/totalCN)+y_N*(1-TNR)\n",
    "            P_TA_C += binomial_pmf(C_TA, n=C_T, p=p_TA_C)/major\n",
    "            P_NA_C += binomial_pmf(C_NA, n=C_N, p=p_NA_C)/major\n",
    "        P_R_clonal = P_TA_C * P_NA_C\n",
    "\n",
    "    # Combine the probabilities\n",
    "    # set prior probabilities\n",
    "    if method == \"uniform\":\n",
    "        p_clonal = 0.25\n",
    "        p_homozygous = 0.25\n",
    "        p_heterozygous = 0.25\n",
    "        p_no_mutation = 0.25\n",
    "    elif method == \"byAF\":\n",
    "        p_clonal = 0.0001\n",
    "        p_germline = 1-p_clonal\n",
    "        p_homozygous = AF*AF*p_germline\n",
    "        p_heterozygous = 2*AF*(1-AF)*p_germline\n",
    "        p_no_mutation = (1-AF)*(1-AF)*p_germline\n",
    "\n",
    "    #P_no_mutation = P_R_no_mutation * p_no_mutation + 1e-06\n",
    "    #P_homozygous = P_R_homozygous * p_homozygous + 1e-06\n",
    "    #P_heterozygous = P_R_heterozygous * p_heterozygous + 1e-06\n",
    "    #P_clonal = P_R_clonal * p_clonal + 1e-06\n",
    "    #P_R = (P_no_mutation + P_homozygous + P_heterozygous + P_clonal)\n",
    "    log_P_no_mutation = safe_log(P_R_no_mutation * p_no_mutation)\n",
    "    log_P_homozygous = safe_log(P_R_homozygous * p_homozygous)\n",
    "    log_P_heterozygous = safe_log(P_R_heterozygous * p_heterozygous)\n",
    "    log_P_clonal = safe_log(P_R_clonal * p_clonal)\n",
    "    log_P_R = np.logaddexp(\n",
    "        np.logaddexp(log_P_no_mutation, log_P_homozygous),\n",
    "        np.logaddexp(log_P_heterozygous, log_P_clonal)\n",
    "    )\n",
    "    #print(P_no_mutation/P_R, P_homozygous/P_R, P_heterozygous/P_R, P_clonal/P_R)\n",
    "    #print(C_TR, C_TA, C_NR, C_NA, major, minor)\n",
    "    #print(P_R_no_mutation, P_R_homozygous, P_R_heterozygous, P_R_clonal)\n",
    "    #print(P_R)\n",
    "    return log_P_no_mutation, log_P_homozygous, log_P_heterozygous, log_P_clonal, log_P_R\n",
    "    #return -np.log(P_R)"
   ]
  },
  {
   "cell_type": "code",
   "execution_count": 10,
   "metadata": {},
   "outputs": [],
   "source": [
    "THRESHOLD = 1e-300\n",
    "def safe_log(prob):\n",
    "    \"\"\"Return log(prob) if prob > THRESHOLD, else -inf.\"\"\"\n",
    "    return np.log(prob) if prob > THRESHOLD else 0"
   ]
  },
  {
   "cell_type": "code",
   "execution_count": 74,
   "metadata": {},
   "outputs": [],
   "source": [
    "def prob_sum(TiN, data):\n",
    "    log_P_e = 0\n",
    "    log_P_c = 0\n",
    "    log_P = 0\n",
    "    for i in range(data.shape[0]):\n",
    "        row = data[i]\n",
    "        log_P_e += calculate_probabilities(\n",
    "            row[0], row[1], row[2], row[3],\n",
    "            row[4], row[5], row[6], TiN, row[7]\n",
    "        )[0]\n",
    "        log_P_c += calculate_probabilities(\n",
    "            row[0], row[1], row[2], row[3],\n",
    "            row[4], row[5], row[6], TiN, row[7]\n",
    "        )[1]\n",
    "        log_P += calculate_probabilities(\n",
    "            row[0], row[1], row[2], row[3],\n",
    "            row[4], row[5], row[6], TiN, row[7]\n",
    "        )[2]\n",
    "    return log_P_e, log_P_c, log_P"
   ]
  },
  {
   "cell_type": "code",
   "execution_count": 12,
   "metadata": {},
   "outputs": [
    {
     "name": "stdout",
     "output_type": "stream",
     "text": [
      "(-16.015098394990595, -473.77208632915915, -109.52438788084676, -42.189622215461895, -16.015098394986303)\n"
     ]
    }
   ],
   "source": [
    "C_TR, C_TA, C_NR, C_NA = 120, 0, 32, 0\n",
    "major, minor = 2, 1\n",
    "totalCN = major + minor\n",
    "TiT = 0.27\n",
    "TiN = 0.1\n",
    "AF = 0.0001\n",
    "\n",
    "print(calculate_probabilities(C_TR, C_TA, C_NR, C_NA, major, minor, totalCN, TiN, AF))"
   ]
  },
  {
   "cell_type": "code",
   "execution_count": 70,
   "metadata": {},
   "outputs": [],
   "source": [
    "data = pd.read_csv(\n",
    "    #\"/rsrch6/home/genetics/vanloolab/secure/TCGA/LUAD_WGS_BAM/TCGA-44-2655/partitioned/AFcombined/filtered_final.txt\",\n",
    "    f\"/rsrch8/home/genetics/tchu/TCGA_LUAD/step6_estimate/subsamples/{sample}/random_sample{ID}.txt\", \n",
    "    sep = \"\\t\", header = 0, \n",
    "dtype={'chr': int, 'position': int, 'major': int, 'minor': int, 'totalCN': int, 'tumor_ref': int, 'tumor_alt': int, 'normal_ref': int, 'normal_alt': int, 'AF': float},\n",
    "index_col=False)\n",
    "structured_array = data[['tumor_ref', 'tumor_alt', 'normal_ref', 'normal_alt', 'major', 'minor', 'totalCN', 'AF']].to_records(index=False)"
   ]
  },
  {
   "cell_type": "code",
   "execution_count": 13,
   "metadata": {},
   "outputs": [],
   "source": [
    "P_n = [-3556606.862084484, -3556606.862084484, -3556606.862084484, -3556606.862084484, -3556606.862084484, -3556606.862084484, -3556606.862084484, -3556606.862084484, -3556606.862084484, -3556606.862084484]\n",
    "P_o = [-3556606.862084484, -3556606.862084484, -3556606.862084484, -3556606.862084484, -3556606.862084484, -3556606.862084484, -3556606.862084484, -3556606.862084484, -3556606.862084484, -3556606.862084484]\n",
    "P_e = [-47792449.91234423, -47726792.93617015, -47626876.13578049, -47527959.03195893, -47431679.13206569, -47336638.500328384, -47241281.47616033, -47144132.431473576, -47043821.87486387, -46939755.039565735]\n",
    "P_c = [-15376414.709273182, -15976981.324202286, -16607571.174267925, -17277070.123495013, -17996092.85551285, -18777325.420222547, -19639809.403065417, -20617957.53364555, -21792776.298070736, -23515577.022196785]\n",
    "logP = [-3343916.072335108, -3343791.4091637707, -3343734.62515076, -3343721.7850551526, -3343741.74567187, -3343790.4979034048, -3343871.9182834956, -3343996.3823061655, -3344196.9273145148, -3344577.0655866154]"
   ]
  },
  {
   "cell_type": "code",
   "execution_count": 1,
   "metadata": {},
   "outputs": [],
   "source": [
    "P_n = [-3545897.5281903576, -3545897.5281903576, -3545897.5281903576, -3545897.5281903576, -3545897.5281903576, -3545897.5281903576, -3545897.5281903576, -3545897.5281903576, -3545897.5281903576, -3545897.5281903576]\n",
    "P_o = [-170822124.94492495, -170822124.94492495, -170822124.94492495, -170822124.94492495, -170822124.94492495, -170822124.94492495, -170822124.94492495, -170822124.94492495, -170822124.94492495, -170822124.94492495]\n",
    "P_e = [-47762784.633867, -47696987.446301796, -47596957.664586484, -47497972.87444732, -47401654.85340563, -47306591.990767136, -47211217.69344605, -47114046.4898702, -47013697.24027144, -46909550.20049519]\n",
    "P_c = [-15359716.202555701, -15959853.641549015, -16589715.213309972, -17258300.35852933, -17976271.75454727, -18756337.652691904, -19617563.738622274, -20594404.4411067, -21767984.160623223, -23490193.047421336]\n",
    "logP = [-3377125.493257476, -3377005.3291556607, -3376971.5685629854, -3376978.7441977095, -3377010.4913494955, -3377061.522961667, -3377137.985152765, -3377247.8791552815, -3377407.0120112738, -3377733.763755604]"
   ]
  },
  {
   "cell_type": "code",
   "execution_count": 4,
   "metadata": {},
   "outputs": [
    {
     "data": {
      "image/png": "[encoded data removed]",
      "text/plain": [
       "<Figure size 2000x400 with 5 Axes>"
      ]
     },
     "metadata": {},
     "output_type": "display_data"
    }
   ],
   "source": [
    "import matplotlib.pyplot as plt\n",
    "TiN = np.linspace(0, 1, 10)\n",
    "\n",
    "fig, axes = plt.subplots(1, 5, figsize=(20, 4))\n",
    "\n",
    "# Plot individual estimations as scatter points\n",
    "axes[0].scatter(TiN, P_n, color='blue', label='Estimations (Uniform)', zorder=3)\n",
    "axes[0].set_title('log(P(No mutation | R))')\n",
    "axes[1].scatter(TiN, P_o, color='blue', label='Estimations (Uniform)', zorder=3)\n",
    "axes[1].set_title('log(P(Homozygous | R))')\n",
    "axes[2].scatter(TiN, P_e, color='blue', label='Estimations (Uniform)', zorder=3)\n",
    "axes[2].set_title('log(P(Heterozygous | R))')\n",
    "axes[2].ticklabel_format(useOffset=False, axis='y')\n",
    "axes[3].scatter(TiN, P_c, color='blue', label='Estimations (Uniform)', zorder=3)\n",
    "axes[3].set_title('log(P(Clonal | R))')\n",
    "axes[4].scatter(TiN, logP, color='red', label='Estimations (Uniform)', zorder=3)\n",
    "axes[4].set_title('log(P(R))')\n",
    "axes[4].ticklabel_format(useOffset=False, axis='y')"
   ]
  },
  {
   "cell_type": "markdown",
   "metadata": {},
   "source": [
    "## Plot results"
   ]
  },
  {
   "cell_type": "code",
   "execution_count": 3,
   "metadata": {},
   "outputs": [],
   "source": [
    "def log_binomial_pmf(n, k, p):\n",
    "    if p == 0 and k > 0:\n",
    "        return -np.inf  # log(0) for impossible events\n",
    "    if p == 1 and k < n:\n",
    "        return -np.inf  # log(0) for impossible events\n",
    "    log_binom_coeff = loggamma(n + 1) - loggamma(k + 1) - loggamma(n - k + 1)\n",
    "    log_prob = k * np.log(p) + (n - k) * np.log(1 - p)\n",
    "    \n",
    "    return log_binom_coeff + log_prob"
   ]
  },
  {
   "cell_type": "code",
   "execution_count": 2,
   "metadata": {},
   "outputs": [],
   "source": [
    "def logaddexp_reduce(values):\n",
    "    \"\"\"Manually implement logaddexp.reduce for Numba.\"\"\"\n",
    "    result = values[0]\n",
    "    for i in range(1, len(values)):\n",
    "        result = np.logaddexp(result, values[i])\n",
    "    return result\n",
    "\n",
    "def factorial(n):\n",
    "    if n < 0:\n",
    "        return 1  # Gracefully handle negative inputs\n",
    "    if n == 0 or n == 1:\n",
    "        return 1\n",
    "    result = 1\n",
    "    for i in range(2, n + 1):\n",
    "        result *= i\n",
    "    return result\n",
    "\n",
    "def n_choose_k(n, k):\n",
    "    if k > n or k < 0:\n",
    "        return 0  # Invalid cases\n",
    "    denom = factorial(k) * factorial(n - k)\n",
    "    if denom == 0:\n",
    "        return 0  # Avoid division by zero\n",
    "    return factorial(n) // denom\n",
    "\n",
    "def log_binomial_pmf(k, n, p):\n",
    "    if k < 0 or k > n or p <= 0 or p >= 1:\n",
    "        return -np.inf  # Invalid inputs lead to log(0)\n",
    "    n_ck = n_choose_k(n, k)\n",
    "    if n_ck == 0:\n",
    "        return -np.inf  # Handle invalid binomial coefficient\n",
    "    log_prob = np.log(n_ck) + k * np.log(p) + (n - k) * np.log(1 - p)\n",
    "    return log_prob"
   ]
  },
  {
   "cell_type": "code",
   "execution_count": null,
   "metadata": {},
   "outputs": [],
   "source": [
    "P_TA_N = log_binomial_pmf(0, n=120, p=1-TNR)\n",
    "P_NA_N = log_binomial_pmf(0, n=25, p=1-TNR)\n",
    "P_R_no_mutation = P_TA_N + P_NA_N  "
   ]
  },
  {
   "cell_type": "code",
   "execution_count": 6,
   "metadata": {},
   "outputs": [
    {
     "data": {
      "text/plain": [
       "-15.27727477038481"
      ]
     },
     "execution_count": 6,
     "metadata": {},
     "output_type": "execute_result"
    }
   ],
   "source": [
    "P_R_no_mutation"
   ]
  },
  {
   "cell_type": "code",
   "execution_count": 45,
   "metadata": {},
   "outputs": [],
   "source": [
    "def calculate_probabilities(C_TR, C_TA, C_NR, C_NA, major, minor, totalCN, AF, TiN):\n",
    "    C_T = C_TA + C_TR\n",
    "    C_N = C_NA + C_NR\n",
    "    C = C_T + C_N\n",
    "    C_A = C_TA + C_NA\n",
    "    if C == 0: \n",
    "        return 0.0, 0.0, 0.0, 0.0, 0.0\n",
    "\n",
    "    if AF <= 0.0001:\n",
    "        AF = 0.0001\n",
    "    elif AF >= 0.9999:\n",
    "        AF = 0.9999\n",
    "\n",
    "    x_T = TiT * totalCN / ((1 - TiT) * 2 + TiT * totalCN)\n",
    "    y_T = 1 - x_T\n",
    "    if totalCN == 0:\n",
    "        x_N = 0\n",
    "        y_N = 1\n",
    "    else:\n",
    "        x_N = TiN * totalCN / ((1 - TiN) * 2 + TiN * totalCN)\n",
    "        y_N = 1 - x_N\n",
    "\n",
    "    # Calculate likelihoods\n",
    "    # No mutation:\n",
    "    P_TA_N = log_binomial_pmf(C_TA, n=C_T, p=1-TNR)\n",
    "    P_NA_N = log_binomial_pmf(C_NA, n=C_N, p=1-TNR)\n",
    "    P_R_no_mutation = P_TA_N + P_NA_N\n",
    "\n",
    "    # Homozygous germline:\n",
    "    P_TA_O = log_binomial_pmf(C_TA, n=C_T, p=TPR)\n",
    "    P_NA_O = log_binomial_pmf(C_NA, n=C_N, p=TPR)\n",
    "    P_R_homozygous = P_TA_O + P_NA_O\n",
    "\n",
    "    if totalCN == 0:\n",
    "        P_TA_E = log_binomial_pmf(C_TA, n=C_T, p=(TPR+1-TNR)/2)\n",
    "        P_NA_E = log_binomial_pmf(C_NA, n=C_N, p=(TPR+1-TNR)/2)\n",
    "        P_R_heterozygous = P_TA_E + P_NA_E\n",
    "\n",
    "        P_TA_C = log_binomial_pmf(C_TA, n=C_T, p=(1-TNR))\n",
    "        P_NA_C = log_binomial_pmf(C_NA, n=C_N, p=(1-TNR))\n",
    "        P_R_clonal = P_TA_C + P_NA_C\n",
    "    else:\n",
    "        # Heterozygous germline:\n",
    "        p_T_minor = TPR*(y_T/2+x_T*minor/totalCN)+(1-TNR)*(y_T/2+x_T*major/totalCN)\n",
    "        p_T_major = TPR*(y_T/2+x_T*major/totalCN)+(1-TNR)*(y_T/2+x_T*minor/totalCN)\n",
    "        p_N_minor = TPR*(y_N/2+x_N*minor/totalCN)+(1-TNR)*(y_N/2+x_N*major/totalCN)\n",
    "        p_N_major = TPR*(y_N/2+x_N*major/totalCN)+(1-TNR)*(y_N/2+x_N*minor/totalCN)\n",
    "        P_TA_E = np.logaddexp(\n",
    "            log_binomial_pmf(C_TA, n=C_T, p=p_T_minor) - np.log(2), \n",
    "            log_binomial_pmf(C_TA, n=C_T, p=p_T_major) - np.log(2)\n",
    "            )\n",
    "        P_NA_E = np.logaddexp(\n",
    "            log_binomial_pmf(C_NA, n=C_N, p=p_N_minor) - np.log(2), \n",
    "            log_binomial_pmf(C_NA, n=C_N, p=p_N_major) - np.log(2)\n",
    "            )\n",
    "        P_R_heterozygous = P_TA_E + P_NA_E\n",
    "        # Clonal: \n",
    "        #P_TA_C, P_NA_C = 0, 0\n",
    "        multiplicity = range(1, major + 1)        \n",
    "        p_TA_C = [TPR*(x_T*i/totalCN) + (1-TNR)*(y_T+x_T*(totalCN-i)/totalCN) for i in multiplicity]\n",
    "        p_NA_C = [TPR*(x_N*i/totalCN) + (1-TNR)*(y_N+x_N*(totalCN-i)/totalCN) for i in multiplicity]\n",
    "        log_binoms_T = [log_binomial_pmf(C_TA, n=C_T, p=P) for P in p_TA_C]\n",
    "        log_binoms_N = [log_binomial_pmf(C_NA, n=C_N, p=P) for P in p_NA_C]\n",
    "        P_TA_C = logaddexp_reduce(log_binoms_T) - np.log(major)\n",
    "        P_NA_C = logaddexp_reduce(log_binoms_N) - np.log(major)\n",
    "\n",
    "        #for i in multiplicity:\n",
    "            #p_TA_C = TPR*(x_T*i/totalCN) + (1-TNR)*(y_T+x_T*(totalCN-i)/totalCN)\n",
    "            #p_NA_C = TPR*(x_N*i/totalCN) + (1-TNR)*(y_N+x_N*(totalCN-i)/totalCN)\n",
    "            #P_TA_C += binomial_pmf(C_TA, n=C_T, p=p_TA_C)/major\n",
    "            #P_NA_C += binomial_pmf(C_NA, n=C_N, p=p_NA_C)/major\n",
    "        P_R_clonal = P_TA_C + P_NA_C\n",
    "\n",
    "    # Combine the probabilities\n",
    "    # set prior probabilities\n",
    "    if method == \"uniform\":\n",
    "        p_clonal = 0.25\n",
    "        p_homozygous = 0.25\n",
    "        p_heterozygous = 0.25\n",
    "        p_no_mutation = 0.25\n",
    "    elif method == \"byAF\":\n",
    "        p_clonal = 0.0001\n",
    "        p_germline = 1-p_clonal\n",
    "        p_homozygous = AF*AF*p_germline\n",
    "        p_heterozygous = 2*AF*(1-AF)*p_germline\n",
    "        p_no_mutation = (1-AF)*(1-AF)*p_germline\n",
    "\n",
    "    log_P_no_mutation = P_R_no_mutation + np.log(p_no_mutation)\n",
    "    log_P_homozygous = P_R_homozygous + np.log(p_homozygous)\n",
    "    log_P_heterozygous = P_R_heterozygous + np.log(p_heterozygous)\n",
    "    log_P_clonal = P_R_clonal + np.log(p_clonal)\n",
    "\n",
    "    log_P_R = logaddexp_reduce([log_P_no_mutation, log_P_homozygous, log_P_heterozygous, log_P_clonal])\n",
    "\n",
    "    return log_P_no_mutation, log_P_homozygous, log_P_heterozygous, log_P_clonal, log_P_R\n"
   ]
  },
  {
   "cell_type": "code",
   "execution_count": 10,
   "metadata": {},
   "outputs": [],
   "source": [
    "method = \"byAF\""
   ]
  },
  {
   "cell_type": "code",
   "execution_count": 57,
   "metadata": {},
   "outputs": [],
   "source": [
    "def prob_sum(TiN, data):\n",
    "    log_P_n, log_P_o, log_P_e, log_P_c, log_P = 0, 0, 0, 0, 0\n",
    "    for i in range(data.shape[0]):\n",
    "        row = data[i]\n",
    "        log_results = calculate_probabilities(\n",
    "            row[0], row[1], row[2], row[3],\n",
    "            row[4], row[5], row[6], row[7], TiN\n",
    "        )\n",
    "        print(log_results)\n",
    "        log_P_n += log_results[0]\n",
    "        log_P_o += log_results[1]\n",
    "        log_P_e += log_results[2]\n",
    "        log_P_c += log_results[3]\n",
    "        log_P += log_results[4]\n",
    "    return log_P_n, log_P_o, log_P_e, log_P_c, log_P"
   ]
  },
  {
   "cell_type": "code",
   "execution_count": 49,
   "metadata": {},
   "outputs": [],
   "source": [
    "data = pd.read_csv(\n",
    "    #\"/rsrch6/home/genetics/vanloolab/secure/TCGA/LUAD_WGS_BAM/TCGA-44-2655/partitioned/AFcombined/filtered_final.txt\",\n",
    "    f\"/rsrch8/home/genetics/tchu/TCGA_LUAD/step6_estimate/subsamples/{sample}/random_sample{ID}.txt\", \n",
    "    sep = \"\\t\", header = 0, \n",
    "dtype={'chr': int, 'position': int, 'major': int, 'minor': int, 'totalCN': int, 'tumor_ref': int, 'tumor_alt': int, 'normal_ref': int, 'normal_alt': int, 'AF': float},\n",
    "index_col=False)\n",
    "data_array = data.head(2)[['tumor_ref', 'tumor_alt', 'normal_ref', 'normal_alt', 'major', 'minor', 'totalCN', 'AF']].to_records(index=False)\n"
   ]
  },
  {
   "cell_type": "code",
   "execution_count": 56,
   "metadata": {},
   "outputs": [
    {
     "data": {
      "text/plain": [
       "rec.array([(120, 0, 25, 0, 1, 1, 2, 0.0001),\n",
       "           (110, 0, 20, 0, 1, 1, 2, 0.0001)],\n",
       "          dtype=[('tumor_ref', '<i8'), ('tumor_alt', '<i8'), ('normal_ref', '<i8'), ('normal_alt', '<i8'), ('major', '<i8'), ('minor', '<i8'), ('totalCN', '<i8'), ('AF', '<f8')])"
      ]
     },
     "execution_count": 56,
     "metadata": {},
     "output_type": "execute_result"
    }
   ],
   "source": [
    "data_array"
   ]
  },
  {
   "cell_type": "markdown",
   "metadata": {},
   "source": [
    "## Reset"
   ]
  },
  {
   "cell_type": "code",
   "execution_count": 1,
   "metadata": {},
   "outputs": [],
   "source": [
    "import numpy as np\n",
    "import pandas as pd\n",
    "# from numba import njit\n",
    "import sys"
   ]
  },
  {
   "cell_type": "code",
   "execution_count": 2,
   "metadata": {},
   "outputs": [],
   "source": [
    "sample = \"TCGA-44-2655\"\n",
    "ID = 1\n",
    "method = \"byAF\"\n",
    "\n",
    "TPR = 0.9  # alternate and seq'd as alternate\n",
    "TNR = 0.95  # reference and seq'd as reference\n",
    "if sample == \"TCGA-44-2655\":\n",
    "    TiT = 0.27\n",
    "elif sample == \"TCGA-50-6592\":\n",
    "    TiT = 0.22\n",
    "elif sample == \"TCGA-55-6986\":\n",
    "    TiT = 0.40\n",
    "\n",
    "def logaddexp_reduce(values):\n",
    "    \"\"\"Manually implement logaddexp.reduce for Numba.\"\"\"\n",
    "    result = values[0]\n",
    "    for i in range(1, len(values)):\n",
    "        result = np.logaddexp(result, values[i])\n",
    "    return result\n",
    "\n",
    "def factorial(n):\n",
    "    if n < 0:\n",
    "        return 1  # Gracefully handle negative inputs\n",
    "    if n == 0 or n == 1:\n",
    "        return 1\n",
    "    result = 1\n",
    "    for i in range(2, n + 1):\n",
    "        result *= i\n",
    "    return result\n",
    "\n",
    "def n_choose_k(n, k):\n",
    "    if k > n or k < 0:\n",
    "        return 0  # Invalid cases\n",
    "    denom = factorial(k) * factorial(n - k)\n",
    "    if denom == 0:\n",
    "        return 0  # Avoid division by zero\n",
    "    return factorial(n) // denom\n",
    "\n",
    "def log_binomial_pmf(k, n, p):\n",
    "    if k < 0 or k > n or p <= 0 or p >= 1:\n",
    "        print(k, n)\n",
    "        return -np.inf  # Invalid inputs lead to log(0)\n",
    "    n_ck = n_choose_k(n, k)\n",
    "    if n_ck == 0:\n",
    "        return -np.inf  # Handle invalid binomial coefficient\n",
    "    log_prob = np.log(n_ck) + k * np.log(p) + (n - k) * np.log(1 - p)\n",
    "    return log_prob\n"
   ]
  },
  {
   "cell_type": "code",
   "execution_count": 3,
   "metadata": {},
   "outputs": [],
   "source": [
    "def calculate_probabilities(C_TR, C_TA, C_NR, C_NA, major, minor, totalCN, AF, TiN):\n",
    "    C_T = C_TA + C_TR\n",
    "    C_N = C_NA + C_NR\n",
    "    C = C_T + C_N\n",
    "    C_A = C_TA + C_NA\n",
    "    if C == 0: \n",
    "        return 0.0, 0.0, 0.0, 0.0, 0.0\n",
    "\n",
    "    if AF <= 0.0001:\n",
    "        AF = 0.0001\n",
    "    elif AF >= 0.9999:\n",
    "        AF = 0.9999\n",
    "\n",
    "    x_T = TiT * totalCN / ((1 - TiT) * 2 + TiT * totalCN)\n",
    "    y_T = 1 - x_T\n",
    "    if totalCN == 0:\n",
    "        x_N = 0\n",
    "        y_N = 1\n",
    "    else:\n",
    "        x_N = TiN * totalCN / ((1 - TiN) * 2 + TiN * totalCN)\n",
    "        y_N = 1 - x_N\n",
    "\n",
    "    # Calculate likelihoods\n",
    "    # No mutation:\n",
    "    P_TA_N = log_binomial_pmf(C_TA, n=C_T, p=1-TNR)\n",
    "    P_NA_N = log_binomial_pmf(C_NA, n=C_N, p=1-TNR)\n",
    "    P_R_no_mutation = P_TA_N + P_NA_N\n",
    "\n",
    "    # Homozygous germline:\n",
    "    P_TA_O = log_binomial_pmf(C_TA, n=C_T, p=TPR)\n",
    "    P_NA_O = log_binomial_pmf(C_NA, n=C_N, p=TPR)\n",
    "    P_R_homozygous = P_TA_O + P_NA_O\n",
    "\n",
    "    if totalCN == 0:\n",
    "        P_TA_E = log_binomial_pmf(C_TA, n=C_T, p=(TPR+1-TNR)/2)\n",
    "        P_NA_E = log_binomial_pmf(C_NA, n=C_N, p=(TPR+1-TNR)/2)\n",
    "        P_R_heterozygous = P_TA_E + P_NA_E\n",
    "\n",
    "        P_TA_C = log_binomial_pmf(C_TA, n=C_T, p=(1-TNR))\n",
    "        P_NA_C = log_binomial_pmf(C_NA, n=C_N, p=(1-TNR))\n",
    "        P_R_clonal = P_TA_C + P_NA_C\n",
    "    else:\n",
    "        # Heterozygous germline:\n",
    "        p_T_minor = TPR*(y_T/2+x_T*minor/totalCN)+(1-TNR)*(y_T/2+x_T*major/totalCN)\n",
    "        p_T_major = TPR*(y_T/2+x_T*major/totalCN)+(1-TNR)*(y_T/2+x_T*minor/totalCN)\n",
    "        p_N_minor = TPR*(y_N/2+x_N*minor/totalCN)+(1-TNR)*(y_N/2+x_N*major/totalCN)\n",
    "        p_N_major = TPR*(y_N/2+x_N*major/totalCN)+(1-TNR)*(y_N/2+x_N*minor/totalCN)\n",
    "        P_TA_E = np.logaddexp(\n",
    "            log_binomial_pmf(C_TA, n=C_T, p=p_T_minor) - np.log(2), \n",
    "            log_binomial_pmf(C_TA, n=C_T, p=p_T_major) - np.log(2)\n",
    "            )\n",
    "        P_NA_E = np.logaddexp(\n",
    "            log_binomial_pmf(C_NA, n=C_N, p=p_N_minor) - np.log(2), \n",
    "            log_binomial_pmf(C_NA, n=C_N, p=p_N_major) - np.log(2)\n",
    "            )\n",
    "        P_R_heterozygous = P_TA_E + P_NA_E\n",
    "        # Clonal: \n",
    "        #P_TA_C, P_NA_C = 0, 0\n",
    "        multiplicity = range(1, major + 1)        \n",
    "        p_TA_C = [TPR*(x_T*i/totalCN) + (1-TNR)*(y_T+x_T*(totalCN-i)/totalCN) for i in multiplicity]\n",
    "        p_NA_C = [TPR*(x_N*i/totalCN) + (1-TNR)*(y_N+x_N*(totalCN-i)/totalCN) for i in multiplicity]\n",
    "        log_binoms_T = [log_binomial_pmf(C_TA, n=C_T, p=P) for P in p_TA_C]\n",
    "        log_binoms_N = [log_binomial_pmf(C_NA, n=C_N, p=P) for P in p_NA_C]\n",
    "        P_TA_C = logaddexp_reduce(log_binoms_T) - np.log(major)\n",
    "        P_NA_C = logaddexp_reduce(log_binoms_N) - np.log(major)\n",
    "\n",
    "        #for i in multiplicity:\n",
    "            #p_TA_C = TPR*(x_T*i/totalCN) + (1-TNR)*(y_T+x_T*(totalCN-i)/totalCN)\n",
    "            #p_NA_C = TPR*(x_N*i/totalCN) + (1-TNR)*(y_N+x_N*(totalCN-i)/totalCN)\n",
    "            #P_TA_C += binomial_pmf(C_TA, n=C_T, p=p_TA_C)/major\n",
    "            #P_NA_C += binomial_pmf(C_NA, n=C_N, p=p_NA_C)/major\n",
    "        P_R_clonal = P_TA_C + P_NA_C\n",
    "\n",
    "    # Combine the probabilities\n",
    "    # set prior probabilities\n",
    "    if method == \"uniform\":\n",
    "        p_clonal = 0.25\n",
    "        p_homozygous = 0.25\n",
    "        p_heterozygous = 0.25\n",
    "        p_no_mutation = 0.25\n",
    "    elif method == \"byAF\":\n",
    "        p_clonal = 0.0001\n",
    "        p_germline = 1-p_clonal\n",
    "        p_homozygous = AF*AF*p_germline\n",
    "        p_heterozygous = 2*AF*(1-AF)*p_germline\n",
    "        p_no_mutation = (1-AF)*(1-AF)*p_germline\n",
    "    # print(\"priors:\", p_no_mutation, p_homozygous, p_heterozygous, p_clonal, )\n",
    "    log_P_no_mutation = P_R_no_mutation + np.log(p_no_mutation)\n",
    "    log_P_homozygous = P_R_homozygous + np.log(p_homozygous)\n",
    "    log_P_heterozygous = P_R_heterozygous + np.log(p_heterozygous)\n",
    "    log_P_clonal = P_R_clonal + np.log(p_clonal)\n",
    "\n",
    "    log_P_R = logaddexp_reduce([log_P_no_mutation, log_P_homozygous, log_P_heterozygous, log_P_clonal])\n",
    "\n",
    "    return log_P_no_mutation, log_P_homozygous, log_P_heterozygous, log_P_clonal, log_P_R\n",
    "\n",
    "\n"
   ]
  },
  {
   "cell_type": "code",
   "execution_count": 4,
   "metadata": {},
   "outputs": [],
   "source": [
    "\n",
    "def prob_sum(TiN, data):\n",
    "    log_P_n, log_P_o, log_P_e, log_P_c, log_P = 0, 0, 0, 0, 0\n",
    "    for i in range(data.shape[0]):\n",
    "        row = data[i]\n",
    "        log_results = calculate_probabilities(\n",
    "            row[0], row[1], row[2], row[3],\n",
    "            row[4], row[5], row[6], row[7], TiN\n",
    "        )\n",
    "        log_P_n += log_results[0]\n",
    "        log_P_o += log_results[1]\n",
    "        log_P_e += log_results[2]\n",
    "        log_P_c += log_results[3]\n",
    "        log_P += log_results[4]\n",
    "    return log_P_n, log_P_o, log_P_e, log_P_c, log_P\n"
   ]
  },
  {
   "cell_type": "code",
   "execution_count": 5,
   "metadata": {},
   "outputs": [
    {
     "name": "stdout",
     "output_type": "stream",
     "text": [
      "[(120, 0, 25, 0, 1, 1, 2, 0.0001)]\n"
     ]
    }
   ],
   "source": [
    "data = pd.read_csv(\n",
    "    #\"/rsrch6/home/genetics/vanloolab/secure/TCGA/LUAD_WGS_BAM/TCGA-44-2655/partitioned/AFcombined/filtered_final.txt\",\n",
    "    f\"/rsrch8/home/genetics/tchu/TCGA_LUAD/step6_estimate/subsamples/{sample}/random_sample{ID}.txt\", \n",
    "    sep = \"\\t\", header = 0, \n",
    "dtype={'chr': int, 'position': int, 'major': int, 'minor': int, 'totalCN': int, 'tumor_ref': int, 'tumor_alt': int, 'normal_ref': int, 'normal_alt': int, 'AF': float},\n",
    "index_col=False)\n",
    "data_array = data.head(1)[['tumor_ref', 'tumor_alt', 'normal_ref', 'normal_alt', 'major', 'minor', 'totalCN', 'AF']].to_records(index=False)\n",
    "print(data_array)\n"
   ]
  },
  {
   "cell_type": "code",
   "execution_count": 6,
   "metadata": {},
   "outputs": [
    {
     "name": "stdout",
     "output_type": "stream",
     "text": [
      "[-32.095576461097494, -33.37021532941919, -34.71335031332326, -36.13276320837531, -37.63764222796087, -39.238942765282125, -40.94987180411284, -42.78655060115965, -44.7689406679231, -46.92216951117157]\n"
     ]
    }
   ],
   "source": [
    "\n",
    "TiN = np.linspace(0, 1, 10)\n",
    "\n",
    "print([prob_sum(i, data_array)[3] for i in TiN])\n"
   ]
  },
  {
   "cell_type": "markdown",
   "metadata": {},
   "source": [
    "### Manual"
   ]
  },
  {
   "cell_type": "code",
   "execution_count": 129,
   "metadata": {},
   "outputs": [
    {
     "data": {
      "text/plain": [
       "-32.095576461097494"
      ]
     },
     "execution_count": 129,
     "metadata": {},
     "output_type": "execute_result"
    }
   ],
   "source": [
    "log_binomial_pmf(0, 120, 0.27*0.5*(TPR+1-TNR)+0.73*(1-TNR))+log_binomial_pmf(0, 25, (1-TNR))+np.log(0.0001)"
   ]
  },
  {
   "cell_type": "code",
   "execution_count": 91,
   "metadata": {},
   "outputs": [
    {
     "data": {
      "text/plain": [
       "rec.array([(120, 0, 25, 0, 1, 1, 2, 0.0001)],\n",
       "          dtype=[('tumor_ref', '<i8'), ('tumor_alt', '<i8'), ('normal_ref', '<i8'), ('normal_alt', '<i8'), ('major', '<i8'), ('minor', '<i8'), ('totalCN', '<i8'), ('AF', '<f8')])"
      ]
     },
     "execution_count": 91,
     "metadata": {},
     "output_type": "execute_result"
    }
   ],
   "source": [
    "row = data_array\n",
    "row"
   ]
  },
  {
   "cell_type": "markdown",
   "metadata": {},
   "source": [
    "## Check hetero vs. clonal"
   ]
  },
  {
   "cell_type": "code",
   "execution_count": 3,
   "metadata": {},
   "outputs": [],
   "source": [
    "import numpy as np\n",
    "import pandas as pd\n",
    "import matplotlib.pyplot as plt\n",
    "from scipy.stats import binom, beta\n",
    "from numpy.random import dirichlet"
   ]
  },
  {
   "cell_type": "code",
   "execution_count": 4,
   "metadata": {},
   "outputs": [],
   "source": [
    "sample = \"TCGA-44-2655\"\n",
    "ID = 1\n",
    "method = \"byAF\"\n",
    "\n",
    "TPR = 0.9  # alternate and seq'd as alternate\n",
    "TNR = 0.95  # reference and seq'd as reference\n",
    "if sample == \"TCGA-44-2655\":\n",
    "    TiT = 0.27\n",
    "elif sample == \"TCGA-50-6592\":\n",
    "    TiT = 0.22\n",
    "elif sample == \"TCGA-55-6986\":\n",
    "    TiT = 0.40\n",
    "\n",
    "def logaddexp_reduce(values):\n",
    "    \"\"\"Manually implement logaddexp.reduce for Numba.\"\"\"\n",
    "    result = values[0]\n",
    "    for i in range(1, len(values)):\n",
    "        result = np.logaddexp(result, values[i])\n",
    "    return result\n",
    "\n",
    "def factorial(n):\n",
    "    if n < 0:\n",
    "        return 1  # Gracefully handle negative inputs\n",
    "    if n == 0 or n == 1:\n",
    "        return 1\n",
    "    result = 1\n",
    "    for i in range(2, n + 1):\n",
    "        result *= i\n",
    "    return result\n",
    "\n",
    "def n_choose_k(n, k):\n",
    "    if k > n or k < 0:\n",
    "        return 0  # Invalid cases\n",
    "    denom = factorial(k) * factorial(n - k)\n",
    "    if denom == 0:\n",
    "        return 0  # Avoid division by zero\n",
    "    return factorial(n) // denom\n",
    "\n",
    "def log_binomial_pmf(k, n, p):\n",
    "    if k < 0 or k > n or p <= 0 or p >= 1:\n",
    "        print(k, n)\n",
    "        return -np.inf  # Invalid inputs lead to log(0)\n",
    "    n_ck = n_choose_k(n, k)\n",
    "    if n_ck == 0:\n",
    "        return -np.inf  # Handle invalid binomial coefficient\n",
    "    log_prob = np.log(n_ck) + k * np.log(p) + (n - k) * np.log(1 - p)\n",
    "    return log_prob\n"
   ]
  },
  {
   "cell_type": "code",
   "execution_count": 83,
   "metadata": {},
   "outputs": [
    {
     "data": {
      "text/plain": [
       "Text(0.5, 1.0, 'p_N_major')"
      ]
     },
     "execution_count": 83,
     "metadata": {},
     "output_type": "execute_result"
    },
    {
     "data": {
      "image/png": "[encoded data removed]",
      "text/plain": [
       "<Figure size 800x400 with 2 Axes>"
      ]
     },
     "metadata": {},
     "output_type": "display_data"
    }
   ],
   "source": [
    "TiN = np.linspace(0, 1, 10)\n",
    "\n",
    "C_NR, C_NA = 24, 0\n",
    "C_N = C_NR + C_NA\n",
    "major, minor = 1,1\n",
    "totalCN = major + minor\n",
    "x_N = [i*totalCN / (2*(1-i) + totalCN * i) for i in TiN]\n",
    "p_N_minor = [TPR*((1-i)/2+i*minor/totalCN)+(1-TNR)*((1-i)/2+i*major/totalCN) for i in x_N]\n",
    "p_N_major = [TPR*((1-i)/2+i*major/totalCN)+(1-TNR)*((1-i)/2+i*minor/totalCN) for i in x_N]\n",
    "fig, axes = plt.subplots(1, 2, figsize=(8, 4))\n",
    "\n",
    "# Plot individual estimations as scatter points\n",
    "axes[0].scatter(TiN, p_N_minor, color='blue', label='Estimations (Uniform)', zorder=3)\n",
    "axes[0].set_title('p_N_minor')\n",
    "axes[1].scatter(TiN, p_N_major, color='blue', label='Estimations (Uniform)', zorder=3)\n",
    "axes[1].set_title('p_N_major')"
   ]
  },
  {
   "cell_type": "code",
   "execution_count": 63,
   "metadata": {},
   "outputs": [
    {
     "data": {
      "text/plain": [
       "<matplotlib.collections.PathCollection at 0x7ffef00dfc90>"
      ]
     },
     "execution_count": 63,
     "metadata": {},
     "output_type": "execute_result"
    },
    {
     "data": {
      "image/png": "[encoded data removed]",
      "text/plain": [
       "<Figure size 640x480 with 1 Axes>"
      ]
     },
     "metadata": {},
     "output_type": "display_data"
    }
   ],
   "source": [
    "P_NA_E = np.linspace(0, 1, 10)\n",
    "for i in range(0, 10):\n",
    "    p_m = p_N_minor[i]\n",
    "    p_M = p_N_major[i]\n",
    "    P_NA_E[i] = np.logaddexp(\n",
    "        log_binomial_pmf(C_NA, n=C_N, p=p_m) - np.log(2), \n",
    "        log_binomial_pmf(C_NA, n=C_N, p=p_M) - np.log(2)\n",
    "        )\n",
    "plt.scatter(TiN, P_NA_E, color='blue', label='Estimations (Uniform)', zorder=3)"
   ]
  },
  {
   "cell_type": "code",
   "execution_count": 64,
   "metadata": {},
   "outputs": [],
   "source": [
    "def logaddexp_reduce(values):\n",
    "    \"\"\" Manually implement logaddexp.reduce for Numba \"\"\"\n",
    "    result = values[0]\n",
    "    for i in range(1, len(values)):\n",
    "        result = np.logaddexp(result, values[i])\n",
    "    return result"
   ]
  },
  {
   "cell_type": "code",
   "execution_count": 84,
   "metadata": {},
   "outputs": [],
   "source": [
    "multiplicity = range(1, major + 1)\n",
    "P_NA_C = [0]\n",
    "for j in x_N:\n",
    "    y_N = 1-j\n",
    "    p_NA_C = [TPR*(j*i/totalCN) + (1-TNR)*(y_N+j*(totalCN-i)/totalCN) for i in multiplicity]\n",
    "    log_binoms_N = [log_binomial_pmf(C_NA, n=C_N, p=P) for P in p_NA_C]\n",
    "    P_NA_C.append(logaddexp_reduce(log_binoms_N) - np.log(major))"
   ]
  },
  {
   "cell_type": "code",
   "execution_count": 85,
   "metadata": {},
   "outputs": [
    {
     "data": {
      "text/plain": [
       "[0,\n",
       " -1.2310390653012138,\n",
       " -2.4546923788900394,\n",
       " -3.744101963437951,\n",
       " -5.106738342687915,\n",
       " -6.551422201490052,\n",
       " -8.088670717318465,\n",
       " -9.731162594595947,\n",
       " -11.494374239760884,\n",
       " -13.397468703853793,\n",
       " -15.464568393372323]"
      ]
     },
     "execution_count": 85,
     "metadata": {},
     "output_type": "execute_result"
    }
   ],
   "source": [
    "P_NA_C"
   ]
  },
  {
   "cell_type": "code",
   "execution_count": null,
   "metadata": {},
   "outputs": [],
   "source": []
  }
 ],
 "metadata": {
  "kernelspec": {
   "display_name": "myenv",
   "language": "python",
   "name": "python3"
  },
  "language_info": {
   "codemirror_mode": {
    "name": "ipython",
    "version": 3
   },
   "file_extension": ".py",
   "mimetype": "text/x-python",
   "name": "python",
   "nbconvert_exporter": "python",
   "pygments_lexer": "ipython3",
   "version": "3.11.3"
  }
 },
 "nbformat": 4,
 "nbformat_minor": 2
}
